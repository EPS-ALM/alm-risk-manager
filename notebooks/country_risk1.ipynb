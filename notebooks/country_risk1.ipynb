{
 "cells": [
  {
   "cell_type": "markdown",
   "metadata": {},
   "source": [
    "# Análise de Risco País"
   ]
  },
  {
   "cell_type": "code",
   "execution_count": 1,
   "metadata": {},
   "outputs": [],
   "source": [
    "import pandas as pd\n",
    "import numpy as np\n",
    "import yfinance as yf\n",
    "import matplotlib.pyplot as plt\n",
    "from datetime import datetime"
   ]
  },
  {
   "cell_type": "code",
   "execution_count": 2,
   "metadata": {},
   "outputs": [],
   "source": [
    "# Definição dos países e ativos relacionados (taxas de câmbio)\n",
    "ativos_cambio = {\n",
    "    \"Brasil\": \"BRL=X\",\n",
    "    \"EUA\": \"DXY\",\n",
    "    \"Zona do Euro\": \"EURUSD=X\",\n",
    "    \"Japão\": \"JPY=X\",\n",
    "    \"Reino Unido\": \"GBPUSD=X\"\n",
    "}"
   ]
  },
  {
   "cell_type": "code",
   "execution_count": null,
   "metadata": {},
   "outputs": [],
   "source": [
    "# Dados históricos\n",
    "fim = datetime.now()\n",
    "inicio = fim - pd.DateOffset(years=5)  # Últimos 5 anos\n",
    "\n",
    "dados_cambio = yf.download(list(ativos_cambio.values()), start=inicio.strftime('%Y-%m-%d'), end=fim.strftime('%Y-%m-%d'))[\"Adj Close\"]\n",
    "dados_cambio.columns = ativos_cambio.keys()"
   ]
  },
  {
   "cell_type": "code",
   "execution_count": null,
   "metadata": {},
   "outputs": [],
   "source": [
    "# Calcular retornos diários\n",
    "retornos_cambio = dados_cambio.pct_change().dropna()\n",
    "\n",
    "# Volatilidade anualizada (indicador de risco cambial)\n",
    "volatilidade_cambial = retornos_cambio.std() * np.sqrt(252)\n",
    "\n",
    "# Variação acumulada em 5 anos (indicador econômico)\n",
    "variacao_acumulada = (dados_cambio.iloc[-1] / dados_cambio.iloc[0] - 1) * 100"
   ]
  },
  {
   "cell_type": "code",
   "execution_count": 5,
   "metadata": {},
   "outputs": [],
   "source": [
    "# Normalizar os valores para o intervalo [0, 1]\n",
    "volatilidade_normalizada = volatilidade_cambial / volatilidade_cambial.max()\n",
    "variacao_normalizada = variacao_acumulada.abs() / variacao_acumulada.abs().max()\n",
    "\n",
    "# Combinar os indicadores em um score final (média simples)\n",
    "score_risco = (volatilidade_normalizada + variacao_normalizada) / 2"
   ]
  },
  {
   "cell_type": "code",
   "execution_count": null,
   "metadata": {},
   "outputs": [],
   "source": [
    "# Gráfico de score de risco\n",
    "score_risco.sort_values().plot(kind='bar', figsize=(10, 6), color='orange')\n",
    "plt.title(\"Score de Risco por País\")\n",
    "plt.ylabel(\"Score de Risco (0 a 1)\")\n",
    "plt.show()"
   ]
  }
 ],
 "metadata": {
  "kernelspec": {
   "display_name": "venv",
   "language": "python",
   "name": "python3"
  },
  "language_info": {
   "codemirror_mode": {
    "name": "ipython",
    "version": 3
   },
   "file_extension": ".py",
   "mimetype": "text/x-python",
   "name": "python",
   "nbconvert_exporter": "python",
   "pygments_lexer": "ipython3",
   "version": "3.12.3"
  }
 },
 "nbformat": 4,
 "nbformat_minor": 2
}
