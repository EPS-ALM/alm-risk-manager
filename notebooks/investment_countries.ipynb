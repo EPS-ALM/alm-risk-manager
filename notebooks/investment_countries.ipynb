%pip install seaborn
import pandas as pd
import numpy as np
import matplotlib.pyplot as plt
import seaborn as sns

def main():
    # Simulação de dados de retornos mensais de investimentos em diferentes países
    np.random.seed(42)
    paises = ["Brasil", "EUA", "China", "Alemanha", "Japão", "Reino Unido"]
    dados = {
        pais: np.random.normal(loc=0.01, scale=0.05, size=60) for pais in paises
    }

    # Criando o DataFrame
    df = pd.DataFrame(dados)
    df.index = pd.daterange(start="2018-01-01", periods=60, freq="ME")

    # Calculando a matriz de correlação
    matrizcorrelacao = df.corr()

    # Plotando a matriz de correlação
    plt.figure(figsize=(10, 6))
    sns.heatmap(
        matrizcorrelacao,
        annot=True,
        cmap="coolwarm",
        fmt=".2f",
        linewidths=0.5,
        cbarkws={'label': 'Correlação'},
    )
    plt.title("Matriz de Correlação dos Retornos de Investimentos")
    plt.show()

    # Gráfico de comparação de médias e desvios-padrões
    medias = df.mean()
    desvios = df.std()

    fig, ax = plt.subplots(figsize=(10, 6))
    ax.bar(paises, medias, yerr=desvios, capsize=5, color="skyblue", alpha=0.7)
    ax.axhline(0, color="gray", linestyle="--", linewidth=0.8)
    ax.set_ylabel("Retorno Mensal Médio")
    ax.set_title("Comparação de Retornos Médios e Riscos (Desvios-Padrões)")
    plt.show()

if __name__ == "__main__":
    main()
